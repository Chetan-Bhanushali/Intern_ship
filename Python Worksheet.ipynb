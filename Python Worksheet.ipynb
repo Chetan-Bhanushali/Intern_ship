{
 "cells": [
  {
   "cell_type": "markdown",
   "id": "f7c487c1",
   "metadata": {},
   "source": [
    "1. Which of the following operators is used to calculate remainder in a division?\n",
    "\n",
    "C) %"
   ]
  },
  {
   "cell_type": "markdown",
   "id": "a45a3c6e",
   "metadata": {},
   "source": [
    "2. In python 2//3 is equal to?\n",
    "\n",
    "B) 0\n"
   ]
  },
  {
   "cell_type": "markdown",
   "id": "39057363",
   "metadata": {},
   "source": [
    "3. In python, 6<<2 is equal to?\n",
    "\n",
    "C) 24"
   ]
  },
  {
   "cell_type": "markdown",
   "id": "f4c9531e",
   "metadata": {},
   "source": [
    "4. In python, 6&2 will give which of the following as output?\n",
    "\n",
    "A) 2"
   ]
  },
  {
   "cell_type": "markdown",
   "id": "3b80fc91",
   "metadata": {},
   "source": [
    "5. In python, 6|2 will give which of the following as output?\n",
    "\n",
    "D) 6"
   ]
  },
  {
   "cell_type": "markdown",
   "id": "de7de159",
   "metadata": {},
   "source": [
    "6. What does the finally keyword denotes in python?\n",
    "B) It encloses the lines of code which will be executed if any error occurs while executing the lines of code in the try block.\n"
   ]
  },
  {
   "cell_type": "markdown",
   "id": "5d861eb8",
   "metadata": {},
   "source": [
    "7. What does raise keyword is used for in python?\n",
    "A) It is used to raise an exception."
   ]
  },
  {
   "cell_type": "markdown",
   "id": "c7cabc01",
   "metadata": {},
   "source": [
    "8. Which of the following is a common use case of yield keyword in python?\n",
    "C) in defining a generator"
   ]
  },
  {
   "cell_type": "markdown",
   "id": "01aa8f69",
   "metadata": {},
   "source": [
    "9. Which of the following are the valid variable names?\n",
    "A) _abc B) 1abc\n",
    "C) abc2 "
   ]
  },
  {
   "cell_type": "markdown",
   "id": "014bbff9",
   "metadata": {},
   "source": [
    "10. Which of the following are the keywords in python?\n",
    "A) yield B) raise"
   ]
  },
  {
   "cell_type": "code",
   "execution_count": 2,
   "id": "6bbd14d8",
   "metadata": {},
   "outputs": [],
   "source": [
    "# 11. Write a python program to find the factorial of a number.\n",
    "\n",
    "def factorial():\n",
    "    a=int(input(\"Please Enter a Number:- \"))\n",
    "    x=1\n",
    "    if a==0 or a==1:\n",
    "        print(\"The factorial of \",a,\" is 1\")\n",
    "        \n",
    "    elif a<0:\n",
    "        print(\"We cannot find factorial of Negative numbers \\n\"\n",
    "             \"Please try again\")\n",
    "        return factorial()\n",
    "    else :\n",
    "        for i in range(2,a+1):\n",
    "            x=x*i\n",
    "        print(\"The factorial of \",a,\" is \",x)\n",
    "        "
   ]
  },
  {
   "cell_type": "code",
   "execution_count": 3,
   "id": "a0588c6e",
   "metadata": {},
   "outputs": [
    {
     "name": "stdout",
     "output_type": "stream",
     "text": [
      "Please Enter a Number:- 4\n",
      "The factorial of  4  is  24\n"
     ]
    }
   ],
   "source": [
    "factorial()"
   ]
  },
  {
   "cell_type": "code",
   "execution_count": 8,
   "id": "7571ea1c",
   "metadata": {},
   "outputs": [],
   "source": [
    "#12.WAP to find a prime or a composite number\n",
    "\n",
    "def prime():\n",
    "    a=int(input(\"Please Enter a Number:- \"))\n",
    "    if a==0 or a==1:\n",
    "        print(a,\" is neither prime nor composite\")\n",
    "    elif a==2:\n",
    "        print(\"2 is the only Even Prime number\")\n",
    "    elif a<0:\n",
    "        print(\"Negative input\\n\"\n",
    "             \"Please try again\")\n",
    "        prime()\n",
    "    else :\n",
    "        for i in range(3,a,2):\n",
    "            if a%i==0 or a%2==0:\n",
    "                print(a,\" is a Composite number\")\n",
    "                break\n",
    "            else:\n",
    "                print(a,\" is a Prime number\")\n",
    "                break"
   ]
  },
  {
   "cell_type": "code",
   "execution_count": 12,
   "id": "7385e985",
   "metadata": {},
   "outputs": [
    {
     "name": "stdout",
     "output_type": "stream",
     "text": [
      "Please Enter a Number:- 15\n",
      "15  is a Composite number\n"
     ]
    }
   ],
   "source": [
    "prime()"
   ]
  },
  {
   "cell_type": "code",
   "execution_count": 31,
   "id": "adbad01b",
   "metadata": {},
   "outputs": [],
   "source": [
    "#13.wap to make a palindrome\n",
    "def palindrome():\n",
    "    abc=input(\"Please enter Something \")\n",
    "    cba=abc[::-1]\n",
    "    print(abc,\" Spelled backwards is \",cba)\n",
    "    if abc==cba:\n",
    "        print(abc,\" is a Palindrome\")\n",
    "    else:\n",
    "        print(abc,\" is not a palindrome\")"
   ]
  },
  {
   "cell_type": "code",
   "execution_count": null,
   "id": "a182e62e",
   "metadata": {},
   "outputs": [],
   "source": [
    "palindrome"
   ]
  },
  {
   "cell_type": "code",
   "execution_count": 53,
   "id": "206ef607",
   "metadata": {},
   "outputs": [],
   "source": [
    "#14. Write a Python program to get the third side of right-angled triangle from two given sides.\n",
    "def triangle(adjacent,opposite,hypotenuse):\n",
    "    import numpy as np\n",
    "    if adjacent==str('x'):\n",
    "        adjacent=str(np.sqrt(hypotenuse**2-opposite**2))\n",
    "        print(\"Third side of trianle is \",adjacent)\n",
    "    elif opposite==str('x'):\n",
    "        opposite=str(np.sqrt(hypotenuse**2-adjacent**2))\n",
    "        print(\"Third side of trianle is \",opposite)\n",
    "    else :\n",
    "        hypotenuse=str(np.sqrt(adjacent**2+opposite**2))\n",
    "        print(\"Third side of trianle is \",hypotenuse)\n",
    "\n",
    "\n",
    "        "
   ]
  },
  {
   "cell_type": "code",
   "execution_count": 58,
   "id": "3656df9e",
   "metadata": {},
   "outputs": [
    {
     "name": "stdout",
     "output_type": "stream",
     "text": [
      "Third side of trianle is  4.0\n"
     ]
    }
   ],
   "source": [
    "triangle(3,'x',5)"
   ]
  },
  {
   "cell_type": "code",
   "execution_count": 64,
   "id": "98eda8d4",
   "metadata": {},
   "outputs": [],
   "source": [
    "#15. Write a python program to print the frequency of each of the characters present in a given string.\n",
    "def string():\n",
    "    \n",
    "    str1 = input (\"Enter the string: \")\n",
    "    d = dict()\n",
    "    for i in str1:\n",
    "        if i in d:\n",
    "            d[i] = d[i] + 1\n",
    "        else:\n",
    "            d[i] = 1\n",
    "    print(d)"
   ]
  },
  {
   "cell_type": "code",
   "execution_count": 65,
   "id": "f1b99191",
   "metadata": {},
   "outputs": [
    {
     "name": "stdout",
     "output_type": "stream",
     "text": [
      "Enter the string: chetan bhanushali\n",
      "{'c': 1, 'h': 3, 'e': 1, 't': 1, 'a': 3, 'n': 2, ' ': 1, 'b': 1, 'u': 1, 's': 1, 'l': 1, 'i': 1}\n"
     ]
    }
   ],
   "source": [
    "string()"
   ]
  },
  {
   "cell_type": "code",
   "execution_count": null,
   "id": "4f93df24",
   "metadata": {},
   "outputs": [],
   "source": []
  }
 ],
 "metadata": {
  "kernelspec": {
   "display_name": "Python 3",
   "language": "python",
   "name": "python3"
  },
  "language_info": {
   "codemirror_mode": {
    "name": "ipython",
    "version": 3
   },
   "file_extension": ".py",
   "mimetype": "text/x-python",
   "name": "python",
   "nbconvert_exporter": "python",
   "pygments_lexer": "ipython3",
   "version": "3.8.8"
  }
 },
 "nbformat": 4,
 "nbformat_minor": 5
}
